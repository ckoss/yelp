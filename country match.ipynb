{
 "cells": [
  {
   "cell_type": "code",
   "execution_count": 1,
   "metadata": {},
   "outputs": [],
   "source": [
    "import gzip\n",
    "import pandas as pd\n",
    "import re"
   ]
  },
  {
   "cell_type": "code",
   "execution_count": 2,
   "metadata": {},
   "outputs": [
    {
     "name": "stderr",
     "output_type": "stream",
     "text": [
      "/usr/local/lib/python3.5/dist-packages/IPython/core/interactiveshell.py:2728: DtypeWarning: Columns (1,4,6,7,8) have mixed types. Specify dtype option on import or set low_memory=False.\n",
      "  interactivity=interactivity, compiler=compiler, result=result)\n"
     ]
    }
   ],
   "source": [
    "# download.geonames.org/export/zip/allCountries.zip\n",
    "\n",
    "data_path='dataset/'\n",
    "coords = pd.read_csv(data_path+'allCountries.txt', sep=\"\\t\", header=None)\n",
    "coords = coords[[0,9,10]]\n",
    "coords[9]  = [int(x*10)/10 for x in coords[9]]\n",
    "coords[10] = [int(x*10)/10 for x in coords[10]]\n",
    "coords=coords.applymap(str)\n",
    "keys=coords[9]+'$'+coords[10]\n",
    "values=coords[0]\n",
    "check=dict(zip(keys,values))"
   ]
  },
  {
   "cell_type": "code",
   "execution_count": 3,
   "metadata": {},
   "outputs": [
    {
     "data": {
      "text/html": [
       "<div>\n",
       "<style scoped>\n",
       "    .dataframe tbody tr th:only-of-type {\n",
       "        vertical-align: middle;\n",
       "    }\n",
       "\n",
       "    .dataframe tbody tr th {\n",
       "        vertical-align: top;\n",
       "    }\n",
       "\n",
       "    .dataframe thead th {\n",
       "        text-align: right;\n",
       "    }\n",
       "</style>\n",
       "<table border=\"1\" class=\"dataframe\">\n",
       "  <thead>\n",
       "    <tr style=\"text-align: right;\">\n",
       "      <th></th>\n",
       "      <th>business_id</th>\n",
       "      <th>name</th>\n",
       "      <th>city</th>\n",
       "      <th>state</th>\n",
       "      <th>postal_code</th>\n",
       "      <th>latitude</th>\n",
       "      <th>longitude</th>\n",
       "      <th>categories</th>\n",
       "      <th>intlat</th>\n",
       "      <th>longlat</th>\n",
       "      <th>key</th>\n",
       "    </tr>\n",
       "  </thead>\n",
       "  <tbody>\n",
       "    <tr>\n",
       "      <th>0</th>\n",
       "      <td>FYWN1wneV18bWNgQjJ2GNg</td>\n",
       "      <td>Dental by Design</td>\n",
       "      <td>Ahwatukee</td>\n",
       "      <td>AZ</td>\n",
       "      <td>85044</td>\n",
       "      <td>33.330690</td>\n",
       "      <td>-111.978599</td>\n",
       "      <td>Dentists, General Dentistry, Health &amp; Medical,...</td>\n",
       "      <td>33.3</td>\n",
       "      <td>-111.9</td>\n",
       "      <td>33.3$-111.9</td>\n",
       "    </tr>\n",
       "    <tr>\n",
       "      <th>1</th>\n",
       "      <td>He-G7vWjzVUysIKrfNbPUQ</td>\n",
       "      <td>Stephen Szabo Salon</td>\n",
       "      <td>McMurray</td>\n",
       "      <td>PA</td>\n",
       "      <td>15317</td>\n",
       "      <td>40.291685</td>\n",
       "      <td>-80.104900</td>\n",
       "      <td>Hair Stylists, Hair Salons, Mens Hair Salons, ...</td>\n",
       "      <td>40.2</td>\n",
       "      <td>-80.1</td>\n",
       "      <td>40.2$-80.1</td>\n",
       "    </tr>\n",
       "    <tr>\n",
       "      <th>2</th>\n",
       "      <td>KQPW8lFf1y5BT2MxiSZ3QA</td>\n",
       "      <td>Western Motor Vehicle</td>\n",
       "      <td>Phoenix</td>\n",
       "      <td>AZ</td>\n",
       "      <td>85017</td>\n",
       "      <td>33.524903</td>\n",
       "      <td>-112.115310</td>\n",
       "      <td>Departments of Motor Vehicles, Public Services...</td>\n",
       "      <td>33.5</td>\n",
       "      <td>-112.1</td>\n",
       "      <td>33.5$-112.1</td>\n",
       "    </tr>\n",
       "  </tbody>\n",
       "</table>\n",
       "</div>"
      ],
      "text/plain": [
       "              business_id                   name       city state postal_code  \\\n",
       "0  FYWN1wneV18bWNgQjJ2GNg       Dental by Design  Ahwatukee    AZ       85044   \n",
       "1  He-G7vWjzVUysIKrfNbPUQ    Stephen Szabo Salon   McMurray    PA       15317   \n",
       "2  KQPW8lFf1y5BT2MxiSZ3QA  Western Motor Vehicle    Phoenix    AZ       85017   \n",
       "\n",
       "    latitude   longitude                                         categories  \\\n",
       "0  33.330690 -111.978599  Dentists, General Dentistry, Health & Medical,...   \n",
       "1  40.291685  -80.104900  Hair Stylists, Hair Salons, Mens Hair Salons, ...   \n",
       "2  33.524903 -112.115310  Departments of Motor Vehicles, Public Services...   \n",
       "\n",
       "  intlat longlat          key  \n",
       "0   33.3  -111.9  33.3$-111.9  \n",
       "1   40.2   -80.1   40.2$-80.1  \n",
       "2   33.5  -112.1  33.5$-112.1  "
      ]
     },
     "execution_count": 3,
     "metadata": {},
     "output_type": "execute_result"
    }
   ],
   "source": [
    "data_path='dataset/'\n",
    "with open(data_path+'business.json', 'rb') as f:\n",
    "    yelp = f.readlines()\n",
    "yelp=''.join(str(yelp))\n",
    "columns=[\"business_id\", \"name\", \"city\", \"state\", \"postal_code\", \"latitude\", \"longitude\", \"categories\"]\n",
    "data=pd.DataFrame(columns=columns)\n",
    "for col in columns:\n",
    "    data[col]=re.findall('\"'+col+'\": [\\[]*(.*?[\"]*[\\]]*[\"]*[^:]+),', yelp)\n",
    "    data[col]=data[col].str.replace('\"', '').str.replace(\"\\\\'s\",'s').str.replace(\"\\\\\",\"\").str.replace('null', '-999')\n",
    "    if col == 'latitude' or col == 'longitude':\n",
    "        data[col]=data[col].astype(float)\n",
    "data['intlat']  = [str(int(x*10)/10) for x in data['latitude']]\n",
    "data['longlat'] = [str(int(x*10)/10) for x in data['longitude']]\n",
    "data['key']=data['intlat']+'$'+data['longlat']\n",
    "data[:3]"
   ]
  },
  {
   "cell_type": "code",
   "execution_count": 4,
   "metadata": {},
   "outputs": [
    {
     "name": "stdout",
     "output_type": "stream",
     "text": [
      "Fehlende: 2941\n"
     ]
    }
   ],
   "source": [
    "country=[]\n",
    "for key in data['key']:\n",
    "    try:\n",
    "        country.append(check[key])\n",
    "    except:\n",
    "        country.append('')\n",
    "data['country']=country\n",
    "print('Fehlende: '+str(len(data[data['country']==''])))"
   ]
  },
  {
   "cell_type": "code",
   "execution_count": 5,
   "metadata": {},
   "outputs": [],
   "source": [
    "miss=data[data['country']==''].copy()\n",
    "data=data[data['country']!=''].copy()"
   ]
  },
  {
   "cell_type": "code",
   "execution_count": 6,
   "metadata": {},
   "outputs": [
    {
     "name": "stderr",
     "output_type": "stream",
     "text": [
      "/usr/local/lib/python3.5/dist-packages/IPython/core/interactiveshell.py:2728: DtypeWarning: Columns (1,4,6,7,8) have mixed types. Specify dtype option on import or set low_memory=False.\n",
      "  interactivity=interactivity, compiler=compiler, result=result)\n"
     ]
    }
   ],
   "source": [
    "# download.geonames.org/export/zip/allCountries.zip\n",
    "\n",
    "data_path='dataset/'\n",
    "codes = pd.read_csv(data_path+'allCountries.txt', sep=\"\\t\", header=None)\n",
    "codes=codes[[0,1,2,3,4,5]].applymap(str)\n",
    "codes.columns=['country','postal_code','district','state','state_short','county']"
   ]
  },
  {
   "cell_type": "code",
   "execution_count": 7,
   "metadata": {},
   "outputs": [],
   "source": [
    "# quick handle\n",
    "codes['key']=codes['postal_code']+'$'+codes['state_short']+'$'+codes['district']\n",
    "keys=codes['key'].tolist()\n",
    "values=codes['country'].tolist()\n",
    "check=dict(zip(keys,values))\n",
    "\n",
    "codes['short']=codes['postal_code']+'$'+codes['state_short']\n",
    "keys=codes['short'].tolist()\n",
    "short=dict(zip(keys,values))\n",
    "\n",
    "codes['short2']=codes['postal_code']+'$'+codes['district']\n",
    "keys=codes['short2'].tolist()\n",
    "short2=dict(zip(keys,values))\n",
    "\n",
    "def check_zip(postal, state, city):\n",
    "    postal=str(postal).strip().split(' ')[0]  \n",
    "    \n",
    "    #quick\n",
    "    try:\n",
    "        return check[postal+'$'+state+'$'+city]\n",
    "    \n",
    "    #quick\n",
    "    except:\n",
    "        try:\n",
    "            return short[postal+'$'+state]\n",
    "        #quick\n",
    "        except:\n",
    "            try:\n",
    "                return short2[postal+'$'+city]\n",
    "            except:  \n",
    "                return ''\n",
    "            \n",
    "            #super-slow\n",
    "            \"\"\"\n",
    "            match=codes[codes['postal_code']==postal]\n",
    "            match=match[match['state_short']==state]\n",
    "            match=match[match['district'].str.contains(city)]\n",
    "            match=list(set(match['country'].tolist()))\n",
    "            l=len(match)\n",
    "            if l==0:\n",
    "                return 'not found'\n",
    "            elif l==1:\n",
    "                return match[0]\n",
    "            else:\n",
    "                return 'multiple results'\n",
    "            \"\"\""
   ]
  },
  {
   "cell_type": "code",
   "execution_count": 8,
   "metadata": {},
   "outputs": [
    {
     "data": {
      "text/plain": [
       "('US', 'CA', 'DE')"
      ]
     },
     "execution_count": 8,
     "metadata": {},
     "output_type": "execute_result"
    }
   ],
   "source": [
    "#example\n",
    "check_zip(85044,'AZ', 'Phoenix'),check_zip('M4M 3A6','ON','Toronto'),check_zip(70567,'BW','Stuttgart')"
   ]
  },
  {
   "cell_type": "code",
   "execution_count": 9,
   "metadata": {},
   "outputs": [],
   "source": [
    "country=[]\n",
    "for index, row in miss.iterrows():\n",
    "    country.append(check_zip(row['postal_code'], row['state'], row['city']))"
   ]
  },
  {
   "cell_type": "code",
   "execution_count": 10,
   "metadata": {},
   "outputs": [
    {
     "name": "stdout",
     "output_type": "stream",
     "text": [
      "Fehlende: 27\n"
     ]
    }
   ],
   "source": [
    "miss['country']=country\n",
    "data=data.append(miss)\n",
    "\n",
    "data['intlat2']  = [str(int(x)) for x in data['latitude']]\n",
    "data['longlat2'] = [str(int(x)) for x in data['longitude']]\n",
    "\n",
    "data['coord2']=data['intlat2']+'$'+data['longlat2']\n",
    "\n",
    "\n",
    "miss=data[data['country']==''].copy()\n",
    "data=data[data['country']!=''].copy()\n",
    "\n",
    "keys=data['coord2']\n",
    "values=data['country']\n",
    "check=dict(zip(keys,values))\n",
    "\n",
    "print('Fehlende: '+str(len(miss)))"
   ]
  },
  {
   "cell_type": "code",
   "execution_count": 11,
   "metadata": {
    "scrolled": false
   },
   "outputs": [],
   "source": [
    "country=[]\n",
    "for c in miss['coord2']:\n",
    "    try:\n",
    "        country.append(check[c])\n",
    "    except:\n",
    "        country.append('')"
   ]
  },
  {
   "cell_type": "code",
   "execution_count": 12,
   "metadata": {},
   "outputs": [
    {
     "name": "stdout",
     "output_type": "stream",
     "text": [
      "Fehlende: 10\n"
     ]
    }
   ],
   "source": [
    "miss['country']=country\n",
    "data=data.append(miss)\n",
    "\n",
    "data['intlat2']  = [str(int(x)) for x in data['latitude']]\n",
    "data['longlat2'] = [str(int(x)) for x in data['longitude']]\n",
    "\n",
    "data['coord2']=data['intlat2']+'$'+data['longlat2']\n",
    "\n",
    "\n",
    "miss=data[data['country']==''].copy()\n",
    "data=data[data['country']!=''].copy()\n",
    "\n",
    "keys=data['coord2']\n",
    "values=data['country']\n",
    "check=dict(zip(keys,values))\n",
    "\n",
    "print('Fehlende: '+str(len(miss)))"
   ]
  },
  {
   "cell_type": "code",
   "execution_count": 13,
   "metadata": {},
   "outputs": [
    {
     "data": {
      "text/html": [
       "<div>\n",
       "<style scoped>\n",
       "    .dataframe tbody tr th:only-of-type {\n",
       "        vertical-align: middle;\n",
       "    }\n",
       "\n",
       "    .dataframe tbody tr th {\n",
       "        vertical-align: top;\n",
       "    }\n",
       "\n",
       "    .dataframe thead th {\n",
       "        text-align: right;\n",
       "    }\n",
       "</style>\n",
       "<table border=\"1\" class=\"dataframe\">\n",
       "  <thead>\n",
       "    <tr style=\"text-align: right;\">\n",
       "      <th></th>\n",
       "      <th>business_id</th>\n",
       "      <th>name</th>\n",
       "      <th>city</th>\n",
       "      <th>state</th>\n",
       "      <th>postal_code</th>\n",
       "      <th>latitude</th>\n",
       "      <th>longitude</th>\n",
       "      <th>categories</th>\n",
       "      <th>country</th>\n",
       "    </tr>\n",
       "  </thead>\n",
       "  <tbody>\n",
       "    <tr>\n",
       "      <th>17025</th>\n",
       "      <td>W2iWAyXd48iRkCKWOmZZuw</td>\n",
       "      <td>Viu00f1amar</td>\n",
       "      <td>Casablanca</td>\n",
       "      <td>VS</td>\n",
       "      <td>2480000</td>\n",
       "      <td>-33.353150</td>\n",
       "      <td>-71.357290</td>\n",
       "      <td>Food, Wineries, Arts &amp; Entertainment]</td>\n",
       "      <td></td>\n",
       "    </tr>\n",
       "    <tr>\n",
       "      <th>19121</th>\n",
       "      <td>op_1wVF_vxbjnp_gBW9d1Q</td>\n",
       "      <td>Bodegas RE</td>\n",
       "      <td>Casablanca</td>\n",
       "      <td>VS</td>\n",
       "      <td>2340000</td>\n",
       "      <td>-33.226921</td>\n",
       "      <td>-71.467934</td>\n",
       "      <td>Arts &amp; Entertainment, Wineries, Food]</td>\n",
       "      <td></td>\n",
       "    </tr>\n",
       "    <tr>\n",
       "      <th>44939</th>\n",
       "      <td>VcM3_Va-SfkM35XTAV1Idw</td>\n",
       "      <td>Emiliana</td>\n",
       "      <td>Casablanca</td>\n",
       "      <td>VS</td>\n",
       "      <td></td>\n",
       "      <td>-33.401111</td>\n",
       "      <td>-71.115401</td>\n",
       "      <td>Food, Wineries, Beer, Wine &amp; Spirits, Arts &amp; E...</td>\n",
       "      <td></td>\n",
       "    </tr>\n",
       "    <tr>\n",
       "      <th>90421</th>\n",
       "      <td>1yQUqh3_h1IOrXZmb4CBFw</td>\n",
       "      <td>TriBeCa</td>\n",
       "      <td>Edinburgh</td>\n",
       "      <td>EDH</td>\n",
       "      <td>EH10 4HG</td>\n",
       "      <td>89.999314</td>\n",
       "      <td>-142.466650</td>\n",
       "      <td>Restaurants, Breakfast &amp; Brunch, American (Tra...</td>\n",
       "      <td></td>\n",
       "    </tr>\n",
       "    <tr>\n",
       "      <th>123335</th>\n",
       "      <td>YSEW66iMAheOH1x6YYZEPA</td>\n",
       "      <td>Viu00f1a Veramonte</td>\n",
       "      <td>Casablanca</td>\n",
       "      <td>VS</td>\n",
       "      <td></td>\n",
       "      <td>-33.370547</td>\n",
       "      <td>-71.294938</td>\n",
       "      <td>Food, Cafes, Restaurants, Wine Tasting Room, C...</td>\n",
       "      <td></td>\n",
       "    </tr>\n",
       "    <tr>\n",
       "      <th>124753</th>\n",
       "      <td>MImmd7Y7K3kCAP0YG05hOQ</td>\n",
       "      <td>Macerado Restaurante</td>\n",
       "      <td>Casablanca</td>\n",
       "      <td>VS</td>\n",
       "      <td>2480000</td>\n",
       "      <td>-33.327618</td>\n",
       "      <td>-71.394905</td>\n",
       "      <td>Restaurants]</td>\n",
       "      <td></td>\n",
       "    </tr>\n",
       "    <tr>\n",
       "      <th>142468</th>\n",
       "      <td>yyF9HvCBuaTa8fMnpN-2-A</td>\n",
       "      <td>Viu00f1a Indu00f3mita</td>\n",
       "      <td>Casablanca</td>\n",
       "      <td>VS</td>\n",
       "      <td></td>\n",
       "      <td>-33.316431</td>\n",
       "      <td>-71.400177</td>\n",
       "      <td>]</td>\n",
       "      <td></td>\n",
       "    </tr>\n",
       "    <tr>\n",
       "      <th>154225</th>\n",
       "      <td>vBxK_MAGuy8eWL_CCfUCUQ</td>\n",
       "      <td>Lone Star</td>\n",
       "      <td>George Town</td>\n",
       "      <td>CHE</td>\n",
       "      <td>CW12 4EU</td>\n",
       "      <td>19.327681</td>\n",
       "      <td>-81.381087</td>\n",
       "      <td>Nightlife, Bars, Restaurants, Tex-Mex, Sports ...</td>\n",
       "      <td></td>\n",
       "    </tr>\n",
       "    <tr>\n",
       "      <th>159672</th>\n",
       "      <td>6S3sGf8PC5dymj7VI37cuA</td>\n",
       "      <td>Al Settimo Arte - La Carpe</td>\n",
       "      <td>Saint-sauveur</td>\n",
       "      <td>WHT</td>\n",
       "      <td>7912</td>\n",
       "      <td>50.708270</td>\n",
       "      <td>3.598120</td>\n",
       "      <td>Pizza, Italian, Restaurants]</td>\n",
       "      <td></td>\n",
       "    </tr>\n",
       "    <tr>\n",
       "      <th>174465</th>\n",
       "      <td>rQY4dgr_juFUm4znznGmLQ</td>\n",
       "      <td>Tanino</td>\n",
       "      <td>Casablanca</td>\n",
       "      <td>VS</td>\n",
       "      <td></td>\n",
       "      <td>-33.317491</td>\n",
       "      <td>-71.434989</td>\n",
       "      <td>Restaurants, Argentine, Signature Cuisine]</td>\n",
       "      <td></td>\n",
       "    </tr>\n",
       "  </tbody>\n",
       "</table>\n",
       "</div>"
      ],
      "text/plain": [
       "                   business_id                        name           city  \\\n",
       "17025   W2iWAyXd48iRkCKWOmZZuw                 Viu00f1amar     Casablanca   \n",
       "19121   op_1wVF_vxbjnp_gBW9d1Q                  Bodegas RE     Casablanca   \n",
       "44939   VcM3_Va-SfkM35XTAV1Idw                    Emiliana     Casablanca   \n",
       "90421   1yQUqh3_h1IOrXZmb4CBFw                     TriBeCa      Edinburgh   \n",
       "123335  YSEW66iMAheOH1x6YYZEPA          Viu00f1a Veramonte     Casablanca   \n",
       "124753  MImmd7Y7K3kCAP0YG05hOQ        Macerado Restaurante     Casablanca   \n",
       "142468  yyF9HvCBuaTa8fMnpN-2-A       Viu00f1a Indu00f3mita     Casablanca   \n",
       "154225  vBxK_MAGuy8eWL_CCfUCUQ                   Lone Star    George Town   \n",
       "159672  6S3sGf8PC5dymj7VI37cuA  Al Settimo Arte - La Carpe  Saint-sauveur   \n",
       "174465  rQY4dgr_juFUm4znznGmLQ                      Tanino     Casablanca   \n",
       "\n",
       "       state postal_code   latitude   longitude  \\\n",
       "17025     VS     2480000 -33.353150  -71.357290   \n",
       "19121     VS     2340000 -33.226921  -71.467934   \n",
       "44939     VS             -33.401111  -71.115401   \n",
       "90421    EDH    EH10 4HG  89.999314 -142.466650   \n",
       "123335    VS             -33.370547  -71.294938   \n",
       "124753    VS     2480000 -33.327618  -71.394905   \n",
       "142468    VS             -33.316431  -71.400177   \n",
       "154225   CHE    CW12 4EU  19.327681  -81.381087   \n",
       "159672   WHT        7912  50.708270    3.598120   \n",
       "174465    VS             -33.317491  -71.434989   \n",
       "\n",
       "                                               categories country  \n",
       "17025               Food, Wineries, Arts & Entertainment]          \n",
       "19121               Arts & Entertainment, Wineries, Food]          \n",
       "44939   Food, Wineries, Beer, Wine & Spirits, Arts & E...          \n",
       "90421   Restaurants, Breakfast & Brunch, American (Tra...          \n",
       "123335  Food, Cafes, Restaurants, Wine Tasting Room, C...          \n",
       "124753                                       Restaurants]          \n",
       "142468                                                  ]          \n",
       "154225  Nightlife, Bars, Restaurants, Tex-Mex, Sports ...          \n",
       "159672                       Pizza, Italian, Restaurants]          \n",
       "174465         Restaurants, Argentine, Signature Cuisine]          "
      ]
     },
     "execution_count": 13,
     "metadata": {},
     "output_type": "execute_result"
    }
   ],
   "source": [
    "miss[columns+['country']]"
   ]
  },
  {
   "cell_type": "code",
   "execution_count": 14,
   "metadata": {},
   "outputs": [
    {
     "data": {
      "text/html": [
       "<div>\n",
       "<style scoped>\n",
       "    .dataframe tbody tr th:only-of-type {\n",
       "        vertical-align: middle;\n",
       "    }\n",
       "\n",
       "    .dataframe tbody tr th {\n",
       "        vertical-align: top;\n",
       "    }\n",
       "\n",
       "    .dataframe thead th {\n",
       "        text-align: right;\n",
       "    }\n",
       "</style>\n",
       "<table border=\"1\" class=\"dataframe\">\n",
       "  <thead>\n",
       "    <tr style=\"text-align: right;\">\n",
       "      <th></th>\n",
       "      <th>business_id</th>\n",
       "      <th>name</th>\n",
       "      <th>city</th>\n",
       "      <th>state</th>\n",
       "      <th>postal_code</th>\n",
       "      <th>latitude</th>\n",
       "      <th>longitude</th>\n",
       "      <th>categories</th>\n",
       "      <th>country</th>\n",
       "    </tr>\n",
       "  </thead>\n",
       "  <tbody>\n",
       "    <tr>\n",
       "      <th>0</th>\n",
       "      <td>FYWN1wneV18bWNgQjJ2GNg</td>\n",
       "      <td>Dental by Design</td>\n",
       "      <td>Ahwatukee</td>\n",
       "      <td>AZ</td>\n",
       "      <td>85044</td>\n",
       "      <td>33.330690</td>\n",
       "      <td>-111.978599</td>\n",
       "      <td>Dentists, General Dentistry, Health &amp; Medical,...</td>\n",
       "      <td>US</td>\n",
       "    </tr>\n",
       "    <tr>\n",
       "      <th>1</th>\n",
       "      <td>He-G7vWjzVUysIKrfNbPUQ</td>\n",
       "      <td>Stephen Szabo Salon</td>\n",
       "      <td>McMurray</td>\n",
       "      <td>PA</td>\n",
       "      <td>15317</td>\n",
       "      <td>40.291685</td>\n",
       "      <td>-80.104900</td>\n",
       "      <td>Hair Stylists, Hair Salons, Mens Hair Salons, ...</td>\n",
       "      <td>US</td>\n",
       "    </tr>\n",
       "    <tr>\n",
       "      <th>2</th>\n",
       "      <td>KQPW8lFf1y5BT2MxiSZ3QA</td>\n",
       "      <td>Western Motor Vehicle</td>\n",
       "      <td>Phoenix</td>\n",
       "      <td>AZ</td>\n",
       "      <td>85017</td>\n",
       "      <td>33.524903</td>\n",
       "      <td>-112.115310</td>\n",
       "      <td>Departments of Motor Vehicles, Public Services...</td>\n",
       "      <td>US</td>\n",
       "    </tr>\n",
       "  </tbody>\n",
       "</table>\n",
       "</div>"
      ],
      "text/plain": [
       "              business_id                   name       city state postal_code  \\\n",
       "0  FYWN1wneV18bWNgQjJ2GNg       Dental by Design  Ahwatukee    AZ       85044   \n",
       "1  He-G7vWjzVUysIKrfNbPUQ    Stephen Szabo Salon   McMurray    PA       15317   \n",
       "2  KQPW8lFf1y5BT2MxiSZ3QA  Western Motor Vehicle    Phoenix    AZ       85017   \n",
       "\n",
       "    latitude   longitude                                         categories  \\\n",
       "0  33.330690 -111.978599  Dentists, General Dentistry, Health & Medical,...   \n",
       "1  40.291685  -80.104900  Hair Stylists, Hair Salons, Mens Hair Salons, ...   \n",
       "2  33.524903 -112.115310  Departments of Motor Vehicles, Public Services...   \n",
       "\n",
       "  country  \n",
       "0      US  \n",
       "1      US  \n",
       "2      US  "
      ]
     },
     "execution_count": 14,
     "metadata": {},
     "output_type": "execute_result"
    }
   ],
   "source": [
    "data=data[columns+['country']]\n",
    "data[:3] "
   ]
  },
  {
   "cell_type": "code",
   "execution_count": 15,
   "metadata": {},
   "outputs": [
    {
     "data": {
      "text/plain": [
       "US    130332\n",
       "CA     38378\n",
       "GB      4684\n",
       "DE      1111\n",
       "AR        29\n",
       "NO        10\n",
       "AT         4\n",
       "IE         3\n",
       "ES         2\n",
       "MX         1\n",
       "FR         1\n",
       "IT         1\n",
       "MD         1\n",
       "Name: country, dtype: int64"
      ]
     },
     "execution_count": 15,
     "metadata": {},
     "output_type": "execute_result"
    }
   ],
   "source": [
    "data['country'].value_counts()"
   ]
  },
  {
   "cell_type": "code",
   "execution_count": null,
   "metadata": {},
   "outputs": [],
   "source": []
  }
 ],
 "metadata": {
  "kernelspec": {
   "display_name": "Python 3",
   "language": "python",
   "name": "python3"
  },
  "language_info": {
   "codemirror_mode": {
    "name": "ipython",
    "version": 3
   },
   "file_extension": ".py",
   "mimetype": "text/x-python",
   "name": "python",
   "nbconvert_exporter": "python",
   "pygments_lexer": "ipython3",
   "version": "3.5.2"
  }
 },
 "nbformat": 4,
 "nbformat_minor": 2
}
