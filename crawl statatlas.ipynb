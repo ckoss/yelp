{
 "cells": [
  {
   "cell_type": "code",
   "execution_count": 1,
   "metadata": {},
   "outputs": [],
   "source": [
    "from urllib.request import urlopen\n",
    "import gzip\n",
    "import re"
   ]
  },
  {
   "cell_type": "code",
   "execution_count": 2,
   "metadata": {},
   "outputs": [],
   "source": [
    "def crawl_race_stats(zipcode):\n",
    "    url='https://statisticalatlas.com/zip/'+str(zipcode)+'/Race-and-Ethnicity'\n",
    "    html = urlopen(url)\n",
    "    stream = html.read()\n",
    "    \n",
    "    source = str(gzip.decompress(stream))[2:-1]\n",
    "    race_figure=source.split('<a href=\"#figure/race-and-ethnicity\"')[1].split('<h4 class=\"figure-title\">')[0]\n",
    "    races=re.findall('<text f[^>]+>([A-Z][^<]+)<\\/text>', race_figure, re.DOTALL)\n",
    "    percent=re.findall('<text f[^>]+>([^>]+%)<\\/text>', race_figure, re.DOTALL)\n",
    "    return dict(zip(races, percent))"
   ]
  },
  {
   "cell_type": "code",
   "execution_count": 3,
   "metadata": {},
   "outputs": [
    {
     "data": {
      "text/plain": [
       "{'Asian': '7.2%',\n",
       " 'Black': '11.1%',\n",
       " 'Hispanic': '14.1%',\n",
       " 'Mixed': '2.8%',\n",
       " 'Other': '1.1%',\n",
       " 'White': '63.7%'}"
      ]
     },
     "execution_count": 3,
     "metadata": {},
     "output_type": "execute_result"
    }
   ],
   "source": [
    "crawl_race_stats(89149)"
   ]
  }
 ],
 "metadata": {
  "kernelspec": {
   "display_name": "Python 3",
   "language": "python",
   "name": "python3"
  },
  "language_info": {
   "codemirror_mode": {
    "name": "ipython",
    "version": 3
   },
   "file_extension": ".py",
   "mimetype": "text/x-python",
   "name": "python",
   "nbconvert_exporter": "python",
   "pygments_lexer": "ipython3",
   "version": "3.5.2"
  }
 },
 "nbformat": 4,
 "nbformat_minor": 2
}
