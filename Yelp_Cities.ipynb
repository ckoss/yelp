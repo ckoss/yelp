{
 "cells": [
  {
   "cell_type": "code",
   "execution_count": 1,
   "metadata": {},
   "outputs": [],
   "source": [
    "import re\n",
    "from collections import Counter"
   ]
  },
  {
   "cell_type": "code",
   "execution_count": 2,
   "metadata": {},
   "outputs": [],
   "source": [
    "data_path='dataset/'\n",
    "with open(data_path+'business.json', 'rb') as f:\n",
    "    data = f.readlines()    "
   ]
  },
  {
   "cell_type": "code",
   "execution_count": 3,
   "metadata": {},
   "outputs": [
    {
     "data": {
      "text/plain": [
       "b'{\"business_id\": \"FYWN1wneV18bWNgQjJ2GNg\", \"name\": \"Dental by Design\", \"neighborhood\": \"\", \"address\": \"4855 E Warner Rd, Ste B9\", \"city\": \"Ahwatukee\", \"state\": \"AZ\", \"postal_code\": \"85044\", \"latitude\": 33.3306902, \"longitude\": -111.9785992, \"stars\": 4.0, \"review_count\": 22, \"is_open\": 1, \"attributes\": {\"AcceptsInsurance\": true, \"ByAppointmentOnly\": true, \"BusinessAcceptsCreditCards\": true}, \"categories\": [\"Dentists\", \"General Dentistry\", \"Health & Medical\", \"Oral Surgeons\", \"Cosmetic Dentists\", \"Orthodontists\"], \"hours\": {\"Friday\": \"7:30-17:00\", \"Tuesday\": \"7:30-17:00\", \"Thursday\": \"7:30-17:00\", \"Wednesday\": \"7:30-17:00\", \"Monday\": \"7:30-17:00\"}}\\n'"
      ]
     },
     "execution_count": 3,
     "metadata": {},
     "output_type": "execute_result"
    }
   ],
   "source": [
    "data[0]"
   ]
  },
  {
   "cell_type": "code",
   "execution_count": 4,
   "metadata": {},
   "outputs": [
    {
     "data": {
      "text/plain": [
       "[('Cuyahoga Falls',\n",
       "  '\"American (New)\", \"Nightlife\", \"Bars\", \"Sandwiches\", \"American (Traditional)\", \"Burgers\", \"Restaurants\"'),\n",
       " ('Stuttgart', '\"Italian\", \"Restaurants\"'),\n",
       " ('Houston',\n",
       "  '\"Breakfast & Brunch\", \"Gluten-Free\", \"Coffee & Tea\", \"Food\", \"Restaurants\", \"Sandwiches\"'),\n",
       " ('Charlotte', '\"Restaurants\", \"American (Traditional)\"'),\n",
       " ('Toronto', '\"Italian\", \"French\", \"Restaurants\"'),\n",
       " ('Richmond Hill', '\"French\", \"Food\", \"Bakeries\", \"Restaurants\"'),\n",
       " ('Toronto', '\"Tiki Bars\", \"Nightlife\", \"Mexican\", \"Restaurants\", \"Bars\"'),\n",
       " ('Elyria', '\"Soup\", \"Salad\", \"Sandwiches\", \"Restaurants\"'),\n",
       " ('Fort Mill',\n",
       "  '\"Food\", \"American (Traditional)\", \"Coffee & Tea\", \"Restaurants\"'),\n",
       " ('Toronto', '\"Restaurants\", \"Breakfast & Brunch\"')]"
      ]
     },
     "execution_count": 4,
     "metadata": {},
     "output_type": "execute_result"
    }
   ],
   "source": [
    "categories=re.findall('\"city\": \"([^\"]+)\".*?\"categories\": \\[(\"[^\\[]+\")\\]', ''.join([str(d) for d in data]))\n",
    "cities=[c for c in categories if \"Restaurants\" in c[1]]\n",
    "cities[:10]"
   ]
  },
  {
   "cell_type": "code",
   "execution_count": 5,
   "metadata": {},
   "outputs": [
    {
     "data": {
      "text/plain": [
       "(779,\n",
       " [('Toronto', 7138),\n",
       "  ('Las Vegas', 5900),\n",
       "  ('Phoenix', 3658),\n",
       "  ('Montr\\\\\\\\u00e9al', 3329),\n",
       "  ('Charlotte', 2465),\n",
       "  ('Pittsburgh', 2203),\n",
       "  ('Edinburgh', 1498),\n",
       "  ('Scottsdale', 1455),\n",
       "  ('Cleveland', 1367),\n",
       "  ('Mississauga', 1304),\n",
       "  ('Mesa', 1126),\n",
       "  ('Stuttgart', 1047),\n",
       "  ('Madison', 1025),\n",
       "  ('Tempe', 965),\n",
       "  ('Chandler', 822),\n",
       "  ('Henderson', 813),\n",
       "  ('Markham', 756),\n",
       "  ('Glendale', 668),\n",
       "  ('Gilbert', 524),\n",
       "  ('Scarborough', 514),\n",
       "  ('Brampton', 484),\n",
       "  ('Richmond Hill', 453),\n",
       "  ('North York', 426),\n",
       "  ('Vaughan', 411),\n",
       "  ('Champaign', 391),\n",
       "  ('Peoria', 342),\n",
       "  ('North Las Vegas', 329),\n",
       "  ('Oakville', 323),\n",
       "  ('Concord', 314),\n",
       "  ('Etobicoke', 283),\n",
       "  ('Laval', 244),\n",
       "  ('Surprise', 208),\n",
       "  ('Matthews', 189),\n",
       "  ('Whitby', 184),\n",
       "  ('Gastonia', 179),\n",
       "  ('Fort Mill', 172),\n",
       "  ('Newmarket', 171),\n",
       "  ('Avondale', 170),\n",
       "  ('Lakewood', 168),\n",
       "  ('Goodyear', 167),\n",
       "  ('Mentor', 166),\n",
       "  ('Aurora', 153),\n",
       "  ('Ajax', 146),\n",
       "  ('Pickering', 145),\n",
       "  ('Thornhill', 143),\n",
       "  ('Huntersville', 140),\n",
       "  ('Montreal', 137),\n",
       "  ('Cuyahoga Falls', 132),\n",
       "  ('Westlake', 121),\n",
       "  ('Urbana', 117)])"
      ]
     },
     "execution_count": 5,
     "metadata": {},
     "output_type": "execute_result"
    }
   ],
   "source": [
    "cities_count=[c[0] for c in cities]\n",
    "c=Counter(cities_count)\n",
    "len(c),c.most_common(50)"
   ]
  }
 ],
 "metadata": {
  "kernelspec": {
   "display_name": "Python 3",
   "language": "python",
   "name": "python3"
  },
  "language_info": {
   "codemirror_mode": {
    "name": "ipython",
    "version": 3
   },
   "file_extension": ".py",
   "mimetype": "text/x-python",
   "name": "python",
   "nbconvert_exporter": "python",
   "pygments_lexer": "ipython3",
   "version": "3.5.2"
  }
 },
 "nbformat": 4,
 "nbformat_minor": 2
}
