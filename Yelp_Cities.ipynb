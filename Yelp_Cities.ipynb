{
 "cells": [
  {
   "cell_type": "code",
   "execution_count": 6,
   "metadata": {},
   "outputs": [],
   "source": [
    "import re\n",
    "from collections import Counter"
   ]
  },
  {
   "cell_type": "code",
   "execution_count": 7,
   "metadata": {},
   "outputs": [],
   "source": [
    "data_path='dataset/'\n",
    "with open(data_path+'business.json', 'rb') as f:\n",
    "    data = f.readlines()    "
   ]
  },
  {
   "cell_type": "code",
   "execution_count": 8,
   "metadata": {},
   "outputs": [
    {
     "data": {
      "text/plain": [
       "b'{\"business_id\": \"FYWN1wneV18bWNgQjJ2GNg\", \"name\": \"Dental by Design\", \"neighborhood\": \"\", \"address\": \"4855 E Warner Rd, Ste B9\", \"city\": \"Ahwatukee\", \"state\": \"AZ\", \"postal_code\": \"85044\", \"latitude\": 33.3306902, \"longitude\": -111.9785992, \"stars\": 4.0, \"review_count\": 22, \"is_open\": 1, \"attributes\": {\"AcceptsInsurance\": true, \"ByAppointmentOnly\": true, \"BusinessAcceptsCreditCards\": true}, \"categories\": [\"Dentists\", \"General Dentistry\", \"Health & Medical\", \"Oral Surgeons\", \"Cosmetic Dentists\", \"Orthodontists\"], \"hours\": {\"Friday\": \"7:30-17:00\", \"Tuesday\": \"7:30-17:00\", \"Thursday\": \"7:30-17:00\", \"Wednesday\": \"7:30-17:00\", \"Monday\": \"7:30-17:00\"}}\\n'"
      ]
     },
     "execution_count": 8,
     "metadata": {},
     "output_type": "execute_result"
    }
   ],
   "source": [
    "data[0]"
   ]
  },
  {
   "cell_type": "code",
   "execution_count": 10,
   "metadata": {},
   "outputs": [
    {
     "data": {
      "text/plain": [
       "[('Brick House Tavern + Tap',\n",
       "  'Cuyahoga Falls',\n",
       "  '\"American (New)\", \"Nightlife\", \"Bars\", \"Sandwiches\", \"American (Traditional)\", \"Burgers\", \"Restaurants\"'),\n",
       " ('Messina', 'Stuttgart', '\"Italian\", \"Restaurants\"'),\n",
       " ('East Coast Coffee',\n",
       "  'Houston',\n",
       "  '\"Breakfast & Brunch\", \"Gluten-Free\", \"Coffee & Tea\", \"Food\", \"Restaurants\", \"Sandwiches\"'),\n",
       " ('Showmars Government Center',\n",
       "  'Charlotte',\n",
       "  '\"Restaurants\", \"American (Traditional)\"'),\n",
       " ('Alize Catering', 'Toronto', '\"Italian\", \"French\", \"Restaurants\"'),\n",
       " ('Maxim Bakery & Restaurant',\n",
       "  'Richmond Hill',\n",
       "  '\"French\", \"Food\", \"Bakeries\", \"Restaurants\"'),\n",
       " ('Chula Taberna Mexicana',\n",
       "  'Toronto',\n",
       "  '\"Tiki Bars\", \"Nightlife\", \"Mexican\", \"Restaurants\", \"Bars\"'),\n",
       " ('Panera Bread', 'Elyria', '\"Soup\", \"Salad\", \"Sandwiches\", \"Restaurants\"'),\n",
       " ('Toast Cafe',\n",
       "  'Fort Mill',\n",
       "  '\"Food\", \"American (Traditional)\", \"Coffee & Tea\", \"Restaurants\"'),\n",
       " ('Sunnyside Grill', 'Toronto', '\"Restaurants\", \"Breakfast & Brunch\"')]"
      ]
     },
     "execution_count": 10,
     "metadata": {},
     "output_type": "execute_result"
    }
   ],
   "source": [
    "categories=re.findall('\"name\": \"([^\"]+)\".*?\"city\": \"([^\"]+)\".*?\"categories\": \\[(\"[^\\[]+\")\\]', ''.join([str(d) for d in data]))\n",
    "cities=[c for c in categories if \"Restaurants\" in c[2]]\n",
    "cities[:10]"
   ]
  },
  {
   "cell_type": "code",
   "execution_count": 5,
   "metadata": {},
   "outputs": [
    {
     "data": {
      "text/plain": [
       "(779,\n",
       " [('Toronto', 7138),\n",
       "  ('Las Vegas', 5900),\n",
       "  ('Phoenix', 3658),\n",
       "  ('Montr\\\\\\\\u00e9al', 3329),\n",
       "  ('Charlotte', 2465),\n",
       "  ('Pittsburgh', 2203),\n",
       "  ('Edinburgh', 1498),\n",
       "  ('Scottsdale', 1455),\n",
       "  ('Cleveland', 1367),\n",
       "  ('Mississauga', 1304),\n",
       "  ('Mesa', 1126),\n",
       "  ('Stuttgart', 1047),\n",
       "  ('Madison', 1025),\n",
       "  ('Tempe', 965),\n",
       "  ('Chandler', 822),\n",
       "  ('Henderson', 813),\n",
       "  ('Markham', 756),\n",
       "  ('Glendale', 668),\n",
       "  ('Gilbert', 524),\n",
       "  ('Scarborough', 514),\n",
       "  ('Brampton', 484),\n",
       "  ('Richmond Hill', 453),\n",
       "  ('North York', 426),\n",
       "  ('Vaughan', 411),\n",
       "  ('Champaign', 391),\n",
       "  ('Peoria', 342),\n",
       "  ('North Las Vegas', 329),\n",
       "  ('Oakville', 323),\n",
       "  ('Concord', 314),\n",
       "  ('Etobicoke', 283),\n",
       "  ('Laval', 244),\n",
       "  ('Surprise', 208),\n",
       "  ('Matthews', 189),\n",
       "  ('Whitby', 184),\n",
       "  ('Gastonia', 179),\n",
       "  ('Fort Mill', 172),\n",
       "  ('Newmarket', 171),\n",
       "  ('Avondale', 170),\n",
       "  ('Lakewood', 168),\n",
       "  ('Goodyear', 167),\n",
       "  ('Mentor', 166),\n",
       "  ('Aurora', 153),\n",
       "  ('Ajax', 146),\n",
       "  ('Pickering', 145),\n",
       "  ('Thornhill', 143),\n",
       "  ('Huntersville', 140),\n",
       "  ('Montreal', 137),\n",
       "  ('Cuyahoga Falls', 132),\n",
       "  ('Westlake', 121),\n",
       "  ('Urbana', 117)])"
      ]
     },
     "execution_count": 5,
     "metadata": {},
     "output_type": "execute_result"
    }
   ],
   "source": [
    "cities_count=[c[1] for c in cities]\n",
    "c=Counter(cities_count)\n",
    "len(c),c.most_common(50)"
   ]
  },
  {
   "cell_type": "code",
   "execution_count": 11,
   "metadata": {},
   "outputs": [
    {
     "data": {
      "text/plain": [
       "(38189,\n",
       " [(\"McDonald\\\\'s\", 693),\n",
       "  ('Subway', 684),\n",
       "  ('Pizza Hut', 301),\n",
       "  ('Taco Bell', 292),\n",
       "  ('Burger King', 286),\n",
       "  (\"Wendy\\\\'s\", 255),\n",
       "  (\"Domino\\\\'s Pizza\", 213),\n",
       "  ('Chipotle Mexican Grill', 173),\n",
       "  ('KFC', 165),\n",
       "  ('Panera Bread', 156),\n",
       "  (\"Jimmy John\\\\'s\", 146),\n",
       "  ('Panda Express', 142),\n",
       "  (\"Papa John\\\\'s Pizza\", 134),\n",
       "  ('Tim Hortons', 133),\n",
       "  ('Popeyes Louisiana Kitchen', 129),\n",
       "  (\"Arby\\\\'s\", 128),\n",
       "  ('Dairy Queen', 116),\n",
       "  ('Starbucks', 108),\n",
       "  (\"Denny\\\\'s\", 106),\n",
       "  ('Five Guys', 89),\n",
       "  ('Chick-fil-A', 87),\n",
       "  ('Pizza Pizza', 85),\n",
       "  ('Jack in the Box', 83),\n",
       "  (\"Jersey Mike\\\\'s Subs\", 82),\n",
       "  ('Firehouse Subs', 78),\n",
       "  (\"Applebee\\\\'s Neighborhood Grill & Bar\", 75),\n",
       "  ('Swiss Chalet Rotisserie & Grill', 74),\n",
       "  ('IHOP', 73),\n",
       "  ('Little Caesars Pizza', 71),\n",
       "  ('Sonic Drive-In', 70),\n",
       "  ('Buffalo Wild Wings', 64),\n",
       "  (\"Papa Murphy\\\\'s\", 64),\n",
       "  ('Del Taco', 63),\n",
       "  (\"Filiberto\\\\'s Mexican Food\", 58),\n",
       "  ('Jack In the Box', 55),\n",
       "  ('McDonalds', 54),\n",
       "  ('Port of Subs', 54),\n",
       "  (\"Roberto\\\\'s Taco Shop\", 52),\n",
       "  (\"Harvey\\\\'s Restaurants\", 50),\n",
       "  ('El Pollo Loco', 48),\n",
       "  (\"Chili\\\\'s\", 48),\n",
       "  ('Thai Express', 45),\n",
       "  (\"Marco\\\\'s Pizza\", 43),\n",
       "  ('Boston Pizza', 42),\n",
       "  ('Smashburger', 42),\n",
       "  ('Wingstop', 42),\n",
       "  (\"Bruegger\\\\'s Bagels\", 42),\n",
       "  (\"Capriotti\\\\'s Sandwich Shop\", 42),\n",
       "  ('Outback Steakhouse', 42),\n",
       "  ('Quiznos', 42)])"
      ]
     },
     "execution_count": 11,
     "metadata": {},
     "output_type": "execute_result"
    }
   ],
   "source": [
    "brand_count=[c[0] for c in cities]\n",
    "c=Counter(brand_count)\n",
    "len(c),c.most_common(50)"
   ]
  },
  {
   "cell_type": "code",
   "execution_count": null,
   "metadata": {},
   "outputs": [],
   "source": []
  }
 ],
 "metadata": {
  "kernelspec": {
   "display_name": "Python 3",
   "language": "python",
   "name": "python3"
  },
  "language_info": {
   "codemirror_mode": {
    "name": "ipython",
    "version": 3
   },
   "file_extension": ".py",
   "mimetype": "text/x-python",
   "name": "python",
   "nbconvert_exporter": "python",
   "pygments_lexer": "ipython3",
   "version": "3.5.2"
  }
 },
 "nbformat": 4,
 "nbformat_minor": 2
}
